{
 "cells": [
  {
   "cell_type": "markdown",
   "metadata": {},
   "source": [
    "# 球の体積 -SymPyの練習-\n",
    "半径$R$の球の体積$V$は\n",
    "$$\n",
    "V = \\frac{4}{3} \\pi R^{3}\n",
    "$$\n",
    "であることが知られている。\n",
    "これを最初に明らかにしたのはシラクサのアルキメデス(Archimedes of Syracuse, c. 287-c. 212 BC)である。\n",
    "彼の時代には積分法が発明されていなかったが，SymPyの練習として，ここでは積分法を用いて2通りの方法で球の体積を求めよう。"
   ]
  },
  {
   "cell_type": "code",
   "execution_count": 1,
   "metadata": {},
   "outputs": [],
   "source": [
    "# 準備\n",
    "import sympy as sp"
   ]
  },
  {
   "cell_type": "markdown",
   "metadata": {},
   "source": [
    "## 輪切りの方法\n",
    "アルキメデスが用いた方法に準ずる方法である。\n",
    "![輪切りの方法](sphere_sliced.png \"輪切りの方法\")\n",
    "上図のように球を輪切りにし，そのスライスの体積を積算する。\n",
    "微小体積$dV$は次式で与えられる。\n",
    "$$\n",
    "dV = \\pi (R^{2} - z^{2}) dz\n",
    "$$\n",
    "したがって，これを$z = 0$から$z = R$まで積分して半球の体積を求め，それを2倍することで体積$V$が求まる。\n",
    "すなわち，\n",
    "$$\n",
    "V = \\int dV = 2 \\int_{0}^{R} \\pi (R^{2} - z^{2}) dz \n",
    "$$\n",
    "である。この定積分をSymPyで計算してみよう。"
   ]
  },
  {
   "cell_type": "code",
   "execution_count": 2,
   "metadata": {},
   "outputs": [
    {
     "data": {
      "text/latex": [
       "$\\displaystyle \\frac{4 \\pi R^{3}}{3}$"
      ],
      "text/plain": [
       "4*pi*R**3/3"
      ]
     },
     "execution_count": 2,
     "metadata": {},
     "output_type": "execute_result"
    }
   ],
   "source": [
    "R, z = sp.symbols('R z')\n",
    "dV = sp.pi * (R**2 - z**2)\n",
    "V = 2 * sp.integrate(dV, (z, 0, R))\n",
    "V"
   ]
  },
  {
   "cell_type": "markdown",
   "metadata": {},
   "source": [
    "このように\n",
    "$$\n",
    "V = \\frac{4}{3} \\pi R^{3}\n",
    "$$\n",
    "が求まる。"
   ]
  },
  {
   "cell_type": "markdown",
   "metadata": {},
   "source": [
    "## 微塵切りの方法\n",
    "3次元の極座標系での微小直方体の体積を積算する方法である。\n",
    "![微塵切りの方法](sphere_boxes.png \"微塵切りの方法\")\n",
    "上図のように，極座標系での立方体を考えると，その微小体積$dV$は次式で与えられる。\n",
    "$$\n",
    "dV = r d\\phi \\sin \\theta \\cdot r d\\theta \\cdot dr\n",
    "$$\n",
    "この$dV$を，\n",
    "\n",
    "- $r$については$0$から$R$まで\n",
    "- $\\theta$については$0$から$\\pi$まで\n",
    "- $\\phi$については$0$から$2 \\pi$まで\n",
    "\n",
    "積分することによって体積$V$が求まる。\n",
    "$$\n",
    "V = \\int dV = \\int_{0}^{R} \\int_{0}^{\\pi} \\int_{0}^{2 \\pi} r d\\phi \\sin \\theta \\cdot r d\\theta \\cdot dr\n",
    "$$\n",
    "ここで，$\\theta$と$\\phi$の両方を$0$から$2 \\pi$まで積分してしまうと，\n",
    "同じ微小体積を2回カウントしてしまうことになるので，いずれか一方は$\\pi$までとすることに注意する。\n",
    "この多重定積分をSymPyで計算してみよう。"
   ]
  },
  {
   "cell_type": "code",
   "execution_count": 3,
   "metadata": {},
   "outputs": [
    {
     "data": {
      "text/latex": [
       "$\\displaystyle \\frac{4 \\pi R^{3}}{3}$"
      ],
      "text/plain": [
       "4*pi*R**3/3"
      ]
     },
     "execution_count": 3,
     "metadata": {},
     "output_type": "execute_result"
    }
   ],
   "source": [
    "r, theta, phi = sp.symbols('r theta phi')\n",
    "dV = r * sp.sin(theta) * r\n",
    "V = sp.integrate(dV, (phi, 0, 2 * sp.pi), (theta, 0, sp.pi), (r, 0, R))\n",
    "V"
   ]
  },
  {
   "cell_type": "markdown",
   "metadata": {},
   "source": [
    "このように\n",
    "$$\n",
    "V = \\frac{4}{3} \\pi R^{3}\n",
    "$$\n",
    "が求まる。\n",
    "ここで，SymPyでは，`dV = r * sp.sin(theta) * r`として$dV$を定義しており，\n",
    "$d\\phi$，$d\\theta$，$dr$に相当する部分は単に$1$としている。\n",
    "SymPyでもこれらの$d$つきの微小量を使った表現が許されると分かり易いが，それが可能かどうか，\n",
    "現時点では筆者には残念ながら判らない。"
   ]
  },
  {
   "cell_type": "code",
   "execution_count": null,
   "metadata": {},
   "outputs": [],
   "source": []
  }
 ],
 "metadata": {
  "kernelspec": {
   "display_name": "Python 3",
   "language": "python",
   "name": "python3"
  },
  "language_info": {
   "codemirror_mode": {
    "name": "ipython",
    "version": 3
   },
   "file_extension": ".py",
   "mimetype": "text/x-python",
   "name": "python",
   "nbconvert_exporter": "python",
   "pygments_lexer": "ipython3",
   "version": "3.7.7"
  }
 },
 "nbformat": 4,
 "nbformat_minor": 4
}
